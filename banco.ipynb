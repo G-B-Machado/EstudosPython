{
  "nbformat": 4,
  "nbformat_minor": 0,
  "metadata": {
    "colab": {
      "provenance": [],
      "authorship_tag": "ABX9TyMk6lIyeZ1ZDY8MrIMqBYBZ",
      "include_colab_link": true
    },
    "kernelspec": {
      "name": "python3",
      "display_name": "Python 3"
    },
    "language_info": {
      "name": "python"
    }
  },
  "cells": [
    {
      "cell_type": "markdown",
      "metadata": {
        "id": "view-in-github",
        "colab_type": "text"
      },
      "source": [
        "<a href=\"https://colab.research.google.com/github/G-B-Machado/EstudosPython/blob/main/banco.ipynb\" target=\"_parent\"><img src=\"https://colab.research.google.com/assets/colab-badge.svg\" alt=\"Open In Colab\"/></a>"
      ]
    },
    {
      "cell_type": "code",
      "execution_count": null,
      "metadata": {
        "colab": {
          "base_uri": "https://localhost:8080/"
        },
        "id": "aTQrlFfOcRsM",
        "outputId": "4dd96cd1-8731-435b-dbf8-230f18b46537"
      },
      "outputs": [
        {
          "output_type": "stream",
          "name": "stdout",
          "text": [
            "\n",
            "\n",
            "[d] Depositar\n",
            "[s] Sacar\n",
            "[e] Extrato\n",
            "[q] Sair\n",
            "\n",
            "->\n",
            "d\n",
            "Insira um valor para deposito8000\n",
            "\n",
            "\n",
            "[d] Depositar\n",
            "[s] Sacar\n",
            "[e] Extrato\n",
            "[q] Sair\n",
            "\n",
            "->\n",
            "s\n",
            "Insira um valor para saque5000\n",
            "Saque efetuado com sucesso\n",
            "\n",
            "\n",
            "[d] Depositar\n",
            "[s] Sacar\n",
            "[e] Extrato\n",
            "[q] Sair\n",
            "\n",
            "->\n",
            "e\n",
            "Depósito feito no valor de: R$ 8.000.00\n",
            "Saldo atual: R$ 8.000.00\n",
            "Saque efetuado no valor de: R$ 5.000.00\n",
            "Saldo atual: R$ 3.000.00\n",
            "\n"
          ]
        }
      ],
      "source": [
        "menu = \"\"\"\n",
        "\n",
        "[d] Depositar\n",
        "[s] Sacar\n",
        "[e] Extrato\n",
        "[q] Sair\n",
        "\n",
        "->\n",
        "\"\"\"\n",
        "def formatar_saldo(valor):\n",
        "    return f\"R$ {valor:,.2f}\".replace('.', ',').replace(',', '.')\n",
        "\n",
        "saldo = 0\n",
        "limite_vlr_saque = 500\n",
        "limite_qnt_saque = 3\n",
        "qnt_saque = 0\n",
        "extrato = \"\"\n",
        "\n",
        "while(True):\n",
        "  opcao = input(menu)\n",
        "\n",
        "  if(opcao == 'd'):\n",
        "    valor_deposito = float(input(\"Insira um valor para deposito\"))\n",
        "    saldo += valor_deposito\n",
        "    extrato = extrato +  \"Depósito feito no valor de: \" + formatar_saldo(valor_deposito) + \"\\n\" + \"Saldo atual: \" + formatar_saldo(saldo) + \"\\n\"\n",
        "\n",
        "  if(opcao == 's'):\n",
        "    if (qnt_saque < limite_qnt_saque):\n",
        "      valor_saque = float(input(\"Insira um valor para saque\"))\n",
        "      if (float(valor_saque) <= saldo):\n",
        "        qnt_saque = qnt_saque + 1\n",
        "        saldo = saldo - valor_saque\n",
        "        extrato = extrato + \"Saque efetuado no valor de: \" + formatar_saldo(valor_saque) + \"\\n\" + \"Saldo atual: \" + formatar_saldo(saldo) + \"\\n\"\n",
        "        print('Saque efetuado com sucesso')\n",
        "      else:\n",
        "        print('Saldo Insuficiente')\n",
        "    else:\n",
        "      print('Quantidade máxima de saques atiginda')\n",
        "\n",
        "  if(opcao == 'e'):\n",
        "    print(extrato)\n",
        "\n",
        "  if(opcao == 'q'):\n",
        "    break;"
      ]
    }
  ]
}